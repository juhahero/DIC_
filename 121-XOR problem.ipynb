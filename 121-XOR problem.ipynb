{
 "cells": [
  {
   "cell_type": "markdown",
   "metadata": {
    "id": "DIE6VvxTz-1e"
   },
   "source": [
    "# XOR problem"
   ]
  },
  {
   "cell_type": "code",
   "execution_count": null,
   "metadata": {
    "executionInfo": {
     "elapsed": 2948,
     "status": "ok",
     "timestamp": 1628822139281,
     "user": {
      "displayName": "서동혁",
      "photoUrl": "https://lh3.googleusercontent.com/a-/AOh14Gg71wtFCbtWxlC7qlDKDUXeUrBLgfU2JGLVV5w_=s64",
      "userId": "08630625503201634837"
     },
     "user_tz": -540
    },
    "id": "33wUzFE8z-1o"
   },
   "outputs": [],
   "source": [
    "import torch\n",
    "import matplotlib.pyplot as plt\n",
    "import torch.nn as nn\n",
    "import torch.optim as optim"
   ]
  },
  {
   "cell_type": "markdown",
   "metadata": {
    "id": "iNPyvLXnz-1p"
   },
   "source": [
    "## Create XOR data"
   ]
  },
  {
   "cell_type": "code",
   "execution_count": null,
   "metadata": {
    "executionInfo": {
     "elapsed": 81,
     "status": "ok",
     "timestamp": 1628822139292,
     "user": {
      "displayName": "서동혁",
      "photoUrl": "https://lh3.googleusercontent.com/a-/AOh14Gg71wtFCbtWxlC7qlDKDUXeUrBLgfU2JGLVV5w_=s64",
      "userId": "08630625503201634837"
     },
     "user_tz": -540
    },
    "id": "MR1RTPSBz-1q"
   },
   "outputs": [],
   "source": [
    "if torch.cuda.is_available():\n",
    "    device = 'cuda'\n",
    "else:\n",
    "    device = 'cpu'"
   ]
  },
  {
   "cell_type": "code",
   "execution_count": null,
   "metadata": {
    "executionInfo": {
     "elapsed": 75,
     "status": "ok",
     "timestamp": 1628822139296,
     "user": {
      "displayName": "서동혁",
      "photoUrl": "https://lh3.googleusercontent.com/a-/AOh14Gg71wtFCbtWxlC7qlDKDUXeUrBLgfU2JGLVV5w_=s64",
      "userId": "08630625503201634837"
     },
     "user_tz": -540
    },
    "id": "z-fCAfROz-1q"
   },
   "outputs": [],
   "source": [
    "X = torch.FloatTensor([[0, 0], [0, 1], [1, 0], [1, 1]]).to(device)\n",
    "y = torch.FloatTensor([[0], [1], [1], [0]]).to(device)"
   ]
  },
  {
   "cell_type": "code",
   "execution_count": null,
   "metadata": {
    "colab": {
     "base_uri": "https://localhost:8080/",
     "height": 265
    },
    "executionInfo": {
     "elapsed": 84,
     "status": "ok",
     "timestamp": 1628822139310,
     "user": {
      "displayName": "서동혁",
      "photoUrl": "https://lh3.googleusercontent.com/a-/AOh14Gg71wtFCbtWxlC7qlDKDUXeUrBLgfU2JGLVV5w_=s64",
      "userId": "08630625503201634837"
     },
     "user_tz": -540
    },
    "id": "tq-wL5jhz-1q",
    "outputId": "bdffc463-1197-402d-e08a-2d9604344d37"
   },
   "outputs": [],
   "source": [
    "for label in [0, 1]:\n",
    "    sub_d = X[(y==label)[:,0], :]\n",
    "    plt.plot(sub_d[:, 0], sub_d[:, 1], 'o')"
   ]
  },
  {
   "cell_type": "markdown",
   "metadata": {
    "id": "yL6IZwNxz-1s"
   },
   "source": [
    "## Create logistic regression model and training"
   ]
  },
  {
   "cell_type": "code",
   "execution_count": null,
   "metadata": {
    "executionInfo": {
     "elapsed": 377,
     "status": "ok",
     "timestamp": 1628822173730,
     "user": {
      "displayName": "서동혁",
      "photoUrl": "https://lh3.googleusercontent.com/a-/AOh14Gg71wtFCbtWxlC7qlDKDUXeUrBLgfU2JGLVV5w_=s64",
      "userId": "08630625503201634837"
     },
     "user_tz": -540
    },
    "id": "HFCtsMc_z-1s"
   },
   "outputs": [],
   "source": [
    "class linear_model(nn.Module):\n",
    "    def __init__(self):\n",
    "        super().__init__()\n",
    "#         self.linear = nn.Linear(2, 1, bias=True)\n",
    "#         self.sigmod = torch.nn.Sigmod()\n",
    "        self.layer = nn.Sequential(\n",
    "                                nn.Linear(2, 1, bias=True), \n",
    "                                nn.Sigmoid())\n",
    "    \n",
    "    def forward(self, x):\n",
    "#         out = self.linear(x)\n",
    "#         out = self.sigmod(input_layer)\n",
    "        out = self.layer(x)\n",
    "        \n",
    "        return out"
   ]
  },
  {
   "cell_type": "code",
   "execution_count": null,
   "metadata": {
    "executionInfo": {
     "elapsed": 1189,
     "status": "ok",
     "timestamp": 1628822184949,
     "user": {
      "displayName": "서동혁",
      "photoUrl": "https://lh3.googleusercontent.com/a-/AOh14Gg71wtFCbtWxlC7qlDKDUXeUrBLgfU2JGLVV5w_=s64",
      "userId": "08630625503201634837"
     },
     "user_tz": -540
    },
    "id": "XrKKl6vtz-1t"
   },
   "outputs": [],
   "source": [
    "model = linear_model()"
   ]
  },
  {
   "cell_type": "code",
   "execution_count": null,
   "metadata": {
    "executionInfo": {
     "elapsed": 11,
     "status": "ok",
     "timestamp": 1628822184951,
     "user": {
      "displayName": "서동혁",
      "photoUrl": "https://lh3.googleusercontent.com/a-/AOh14Gg71wtFCbtWxlC7qlDKDUXeUrBLgfU2JGLVV5w_=s64",
      "userId": "08630625503201634837"
     },
     "user_tz": -540
    },
    "id": "okvFBrGiz-1t"
   },
   "outputs": [],
   "source": [
    "epochs = 10000\n",
    "learning_rate = 1"
   ]
  },
  {
   "cell_type": "code",
   "execution_count": null,
   "metadata": {
    "colab": {
     "base_uri": "https://localhost:8080/"
    },
    "executionInfo": {
     "elapsed": 2478,
     "status": "ok",
     "timestamp": 1628822193311,
     "user": {
      "displayName": "서동혁",
      "photoUrl": "https://lh3.googleusercontent.com/a-/AOh14Gg71wtFCbtWxlC7qlDKDUXeUrBLgfU2JGLVV5w_=s64",
      "userId": "08630625503201634837"
     },
     "user_tz": -540
    },
    "id": "pQijX-5qz-1u",
    "outputId": "f453c141-001b-4bb5-806c-9ad38f184d27"
   },
   "outputs": [],
   "source": [
    "criterion = nn.BCELoss().to(device)\n",
    "optimizer = optim.SGD(model.parameters(), lr=learning_rate)\n",
    "\n",
    "for step in range(epochs+1):\n",
    "    optimizer.zero_grad()\n",
    "    hypothesis = model(X)\n",
    "    \n",
    "    cost = criterion(hypothesis, y)\n",
    "    cost.backward()\n",
    "    optimizer.step()\n",
    "    \n",
    "    if step % 1000 == 0:\n",
    "        print(step, cost.item())\n",
    "    "
   ]
  },
  {
   "cell_type": "markdown",
   "metadata": {
    "id": "MHEwHTHhz-1u"
   },
   "source": [
    "## 결과 확인"
   ]
  },
  {
   "cell_type": "code",
   "execution_count": null,
   "metadata": {
    "colab": {
     "base_uri": "https://localhost:8080/"
    },
    "executionInfo": {
     "elapsed": 459,
     "status": "ok",
     "timestamp": 1628822228316,
     "user": {
      "displayName": "서동혁",
      "photoUrl": "https://lh3.googleusercontent.com/a-/AOh14Gg71wtFCbtWxlC7qlDKDUXeUrBLgfU2JGLVV5w_=s64",
      "userId": "08630625503201634837"
     },
     "user_tz": -540
    },
    "id": "qRfBtxKrz-1u",
    "outputId": "7c566ffb-fcf6-4b4b-f935-2a9e54b2ff49"
   },
   "outputs": [],
   "source": [
    "model(X)"
   ]
  },
  {
   "cell_type": "code",
   "execution_count": null,
   "metadata": {
    "colab": {
     "base_uri": "https://localhost:8080/"
    },
    "executionInfo": {
     "elapsed": 7,
     "status": "ok",
     "timestamp": 1628822228695,
     "user": {
      "displayName": "서동혁",
      "photoUrl": "https://lh3.googleusercontent.com/a-/AOh14Gg71wtFCbtWxlC7qlDKDUXeUrBLgfU2JGLVV5w_=s64",
      "userId": "08630625503201634837"
     },
     "user_tz": -540
    },
    "id": "KI5ncY_Oz-1v",
    "outputId": "33d8a742-ea16-4ef5-9566-20a17e5213b8"
   },
   "outputs": [],
   "source": [
    "with torch.no_grad():\n",
    "    hypothesis = model(X)\n",
    "    predicted = (hypothesis > 0.5).float()\n",
    "    accuracy = (predicted == y).float().mean()\n",
    "    print('\\nHypothesis: ', hypothesis.detach().cpu().numpy(), '\\nCorrect: ', predicted.detach().cpu().numpy(), '\\nAccuracy: ', accuracy.item())"
   ]
  },
  {
   "cell_type": "markdown",
   "metadata": {
    "id": "6Z7NbFDLz-1v"
   },
   "source": [
    "## Create multilayer perceptron and training"
   ]
  },
  {
   "cell_type": "code",
   "execution_count": null,
   "metadata": {
    "executionInfo": {
     "elapsed": 426,
     "status": "ok",
     "timestamp": 1628822377884,
     "user": {
      "displayName": "서동혁",
      "photoUrl": "https://lh3.googleusercontent.com/a-/AOh14Gg71wtFCbtWxlC7qlDKDUXeUrBLgfU2JGLVV5w_=s64",
      "userId": "08630625503201634837"
     },
     "user_tz": -540
    },
    "id": "7dR0o0_Vz-1w"
   },
   "outputs": [],
   "source": [
    "class multi_layer_model(nn.Module):\n",
    "    def __init__(self):\n",
    "        super().__init__()\n",
    "\n",
    "        self.layer = nn.Sequential(\n",
    "                                nn.Linear(2, 2, bias=True), \n",
    "                                nn.Sigmoid(),\n",
    "                                nn.Linear(2, 1, bias=True), \n",
    "                                nn.Sigmoid())\n",
    "    \n",
    "    def forward(self, x):\n",
    "        out = self.layer(x)\n",
    "        \n",
    "        return out"
   ]
  },
  {
   "cell_type": "code",
   "execution_count": null,
   "metadata": {
    "executionInfo": {
     "elapsed": 5,
     "status": "ok",
     "timestamp": 1628822378291,
     "user": {
      "displayName": "서동혁",
      "photoUrl": "https://lh3.googleusercontent.com/a-/AOh14Gg71wtFCbtWxlC7qlDKDUXeUrBLgfU2JGLVV5w_=s64",
      "userId": "08630625503201634837"
     },
     "user_tz": -540
    },
    "id": "SRDX_xY1z-1w"
   },
   "outputs": [],
   "source": [
    "model = multi_layer_model()"
   ]
  },
  {
   "cell_type": "code",
   "execution_count": null,
   "metadata": {
    "colab": {
     "base_uri": "https://localhost:8080/"
    },
    "executionInfo": {
     "elapsed": 3422,
     "status": "ok",
     "timestamp": 1628822390705,
     "user": {
      "displayName": "서동혁",
      "photoUrl": "https://lh3.googleusercontent.com/a-/AOh14Gg71wtFCbtWxlC7qlDKDUXeUrBLgfU2JGLVV5w_=s64",
      "userId": "08630625503201634837"
     },
     "user_tz": -540
    },
    "id": "Sx2yaKhhz-1x",
    "outputId": "0188773f-837e-4af8-bab7-bff0726ffb24"
   },
   "outputs": [],
   "source": [
    "criterion = nn.BCELoss().to(device)\n",
    "optimizer = optim.SGD(model.parameters(), lr=learning_rate)\n",
    "\n",
    "for step in range(epochs+1):\n",
    "    optimizer.zero_grad()\n",
    "    hypothesis = model(X)\n",
    "    \n",
    "    cost = criterion(hypothesis, y)\n",
    "    cost.backward()\n",
    "    optimizer.step()\n",
    "    \n",
    "    if step % 1000 == 0:\n",
    "        print(step, cost.item())\n",
    "    "
   ]
  },
  {
   "cell_type": "code",
   "execution_count": null,
   "metadata": {
    "colab": {
     "base_uri": "https://localhost:8080/"
    },
    "executionInfo": {
     "elapsed": 374,
     "status": "ok",
     "timestamp": 1628822395151,
     "user": {
      "displayName": "서동혁",
      "photoUrl": "https://lh3.googleusercontent.com/a-/AOh14Gg71wtFCbtWxlC7qlDKDUXeUrBLgfU2JGLVV5w_=s64",
      "userId": "08630625503201634837"
     },
     "user_tz": -540
    },
    "id": "XJ1Gv08Pz-1y",
    "outputId": "e5f51354-3982-4c51-beec-900979924fd8"
   },
   "outputs": [],
   "source": [
    "model(X)"
   ]
  },
  {
   "cell_type": "code",
   "execution_count": null,
   "metadata": {
    "colab": {
     "base_uri": "https://localhost:8080/"
    },
    "executionInfo": {
     "elapsed": 13,
     "status": "ok",
     "timestamp": 1628822395569,
     "user": {
      "displayName": "서동혁",
      "photoUrl": "https://lh3.googleusercontent.com/a-/AOh14Gg71wtFCbtWxlC7qlDKDUXeUrBLgfU2JGLVV5w_=s64",
      "userId": "08630625503201634837"
     },
     "user_tz": -540
    },
    "id": "yo2b0CQEz-1z",
    "outputId": "b4c7cc49-d75c-4434-8c86-611904105e19"
   },
   "outputs": [],
   "source": [
    "with torch.no_grad():\n",
    "    hypothesis = model(X)\n",
    "    predicted = (hypothesis > 0.5).float()\n",
    "    accuracy = (predicted == y).float().mean()\n",
    "    print('\\nHypothesis: ', hypothesis.detach().cpu().numpy(), '\\nCorrect: ', predicted.detach().cpu().numpy(), '\\nAccuracy: ', accuracy.item())"
   ]
  },
  {
   "cell_type": "code",
   "execution_count": null,
   "metadata": {
    "id": "iDEL9-yJz-1z"
   },
   "outputs": [],
   "source": []
  }
 ],
 "metadata": {
  "colab": {
   "collapsed_sections": [],
   "name": "511-XOR problem.ipynb",
   "provenance": []
  },
  "kernelspec": {
   "display_name": "Python 3",
   "language": "python",
   "name": "python3"
  },
  "language_info": {
   "codemirror_mode": {
    "name": "ipython",
    "version": 3
   },
   "file_extension": ".py",
   "mimetype": "text/x-python",
   "name": "python",
   "nbconvert_exporter": "python",
   "pygments_lexer": "ipython3",
   "version": "3.6.10"
  }
 },
 "nbformat": 4,
 "nbformat_minor": 1
}
